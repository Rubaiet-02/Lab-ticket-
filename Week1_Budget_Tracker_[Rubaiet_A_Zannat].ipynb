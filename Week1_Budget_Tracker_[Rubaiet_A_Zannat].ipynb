{
  "cells": [
    {
      "cell_type": "markdown",
      "metadata": {
        "id": "view-in-github",
        "colab_type": "text"
      },
      "source": [
        "<a href=\"https://colab.research.google.com/github/Rubaiet-02/Lab-ticket-/blob/main/Week1_Budget_Tracker_%5BRubaiet_A_Zannat%5D.ipynb\" target=\"_parent\"><img src=\"https://colab.research.google.com/assets/colab-badge.svg\" alt=\"Open In Colab\"/></a>"
      ]
    },
    {
      "cell_type": "markdown",
      "id": "45b851c9",
      "metadata": {
        "id": "45b851c9"
      },
      "source": [
        "# Mini Project 01: AI-Powered Budget Tracker\n",
        "# ISYS2001 Introduction to Business Programming\n",
        "\n",
        "**Instructions:**\n",
        "1. Save a copy of this notebook to your Google Drive (File > Save a copy in Drive)  \n",
        "2. Rename it to include your name: `Week1_Budget_Tracker_[YourName]`  \n",
        "3. Complete all sections and code cells  \n",
        "4. Document your AI interactions as you go\n"
      ]
    },
    {
      "cell_type": "markdown",
      "id": "a60fc4c8",
      "metadata": {
        "id": "a60fc4c8"
      },
      "source": [
        "## Part 1: Environment Setup and First Steps"
      ]
    },
    {
      "cell_type": "code",
      "execution_count": null,
      "id": "2e576bd1",
      "metadata": {
        "id": "2e576bd1",
        "colab": {
          "base_uri": "https://localhost:8080/"
        },
        "outputId": "d23358e5-51a0-4033-f576-8eb256b9a24b"
      },
      "outputs": [
        {
          "output_type": "stream",
          "name": "stdout",
          "text": [
            "🎉 Welcome to ISYS2001: Introduction to Business Programming!\n",
            "📊 Project: Personal Finance Assistant\n",
            "🤖 Today's Goal: Build a Simple Budget Tracker with AI Help\n",
            "\n",
            "📅 Worksheet started at: 2025-08-19 03:51:20\n"
          ]
        }
      ],
      "source": [
        "# Run this cell to test your environment\n",
        "print(\"🎉 Welcome to ISYS2001: Introduction to Business Programming!\")\n",
        "print(\"📊 Project: Personal Finance Assistant\")\n",
        "print(\"🤖 Today's Goal: Build a Simple Budget Tracker with AI Help\")\n",
        "\n",
        "# Import datetime to timestamp your work\n",
        "from datetime import datetime\n",
        "print(f\"\\n📅 Worksheet started at: {datetime.now().strftime('%Y-%m-%d %H:%M:%S')}\")"
      ]
    },
    {
      "cell_type": "markdown",
      "id": "7ac0ada2",
      "metadata": {
        "id": "7ac0ada2"
      },
      "source": [
        "## Part 2: Your First AI Prompt\n",
        "\n",
        "Use an AI assistant (Gemini in Colab, ChatGPT, or GitHub Copilot) to create a program that:\n",
        "- Asks the user for their name\n",
        "- Asks for their monthly income  \n",
        "- Prints a personalized welcome message\n",
        "\n",
        "### 📝 Document Your AI Prompt Below:"
      ]
    },
    {
      "cell_type": "code",
      "execution_count": null,
      "id": "62045e66",
      "metadata": {
        "id": "62045e66",
        "colab": {
          "base_uri": "https://localhost:8080/"
        },
        "outputId": "d7ac21cb-db53-45db-e46c-c93ea7cc95e4"
      },
      "outputs": [
        {
          "output_type": "stream",
          "name": "stdout",
          "text": [
            "My AI Prompt:[gpt create a program that, where i can ask for their name, their income and a personalized welcome message]\n",
            "What's your name?\n",
            "What's your monthly income?\n",
            "Welcome! You earn $2k\n"
          ]
        }
      ],
      "source": [
        "# TASK: Write your AI prompt as a comment below\n",
        "print(\"My AI Prompt:[gpt create a program that, where i can ask for their name, their income and a personalized welcome message]\")\n",
        "\n",
        "# Paste the AI-generated code below:\n",
        "print(\"What's your name?\")\n",
        "print(\"What's your monthly income?\")\n",
        "print(\"Welcome! You earn $2k\")"
      ]
    },
    {
      "cell_type": "markdown",
      "id": "daaaec49",
      "metadata": {
        "id": "daaaec49"
      },
      "source": [
        "### 🔍 Evidence Package Entry #1"
      ]
    },
    {
      "cell_type": "code",
      "execution_count": null,
      "id": "667d3549",
      "metadata": {
        "id": "667d3549",
        "colab": {
          "base_uri": "https://localhost:8080/",
          "height": 211
        },
        "outputId": "2689a0c3-d92f-4501-8628-2f866de50a89"
      },
      "outputs": [
        {
          "output_type": "error",
          "ename": "NameError",
          "evalue": "name 'datetime' is not defined",
          "traceback": [
            "\u001b[0;31m---------------------------------------------------------------------------\u001b[0m",
            "\u001b[0;31mNameError\u001b[0m                                 Traceback (most recent call last)",
            "\u001b[0;32m/tmp/ipython-input-2292751014.py\u001b[0m in \u001b[0;36m<cell line: 0>\u001b[0;34m()\u001b[0m\n\u001b[1;32m      1\u001b[0m \u001b[0;31m# Evidence Package Documentation\u001b[0m\u001b[0;34m\u001b[0m\u001b[0;34m\u001b[0m\u001b[0m\n\u001b[1;32m      2\u001b[0m evidence_1 = {\n\u001b[0;32m----> 3\u001b[0;31m     \u001b[0;34m\"timestamp\"\u001b[0m\u001b[0;34m:\u001b[0m \u001b[0mdatetime\u001b[0m\u001b[0;34m.\u001b[0m\u001b[0mnow\u001b[0m\u001b[0;34m(\u001b[0m\u001b[0;34m)\u001b[0m\u001b[0;34m.\u001b[0m\u001b[0mstrftime\u001b[0m\u001b[0;34m(\u001b[0m\u001b[0;34m'%Y-%m-%d %H:%M:%S'\u001b[0m\u001b[0;34m)\u001b[0m\u001b[0;34m,\u001b[0m\u001b[0;34m\u001b[0m\u001b[0;34m\u001b[0m\u001b[0m\n\u001b[0m\u001b[1;32m      4\u001b[0m     \u001b[0;34m\"context\"\u001b[0m\u001b[0;34m:\u001b[0m \u001b[0;34m\"I wanted to create a simple input/output program to practice AI prompting\"\u001b[0m\u001b[0;34m,\u001b[0m\u001b[0;34m\u001b[0m\u001b[0;34m\u001b[0m\u001b[0m\n\u001b[1;32m      5\u001b[0m     \u001b[0;34m\"ai_tool_used\"\u001b[0m\u001b[0;34m:\u001b[0m \u001b[0;34m\"ChatGPT,Gemini\"\u001b[0m\u001b[0;34m,\u001b[0m\u001b[0;34m\u001b[0m\u001b[0;34m\u001b[0m\u001b[0m\n",
            "\u001b[0;31mNameError\u001b[0m: name 'datetime' is not defined"
          ]
        }
      ],
      "source": [
        "# Evidence Package Documentation\n",
        "evidence_1 = {\n",
        "    \"timestamp\": datetime.now().strftime('%Y-%m-%d %H:%M:%S'),\n",
        "    \"context\": \"I wanted to create a simple input/output program to practice AI prompting\",\n",
        "    \"ai_tool_used\": \"ChatGPT,Gemini\",\n",
        "    \"what_worked\": \"The AI understood my request and give me a perfect idea\",\n",
        "    \"what_didnt\": \"I had to clarify what problem I was facing\",\n",
        "    \"what_i_learned\": \"I learned that specific prompts can give me specific answer but also I do a mistake so AI help me to learn how to do it\"\n",
        "}\n",
        "\n",
        "# Display your evidence\n",
        "print(\"📋 EVIDENCE PACKAGE #1\")\n",
        "for key, value in evidence_1.items():\n",
        "    print(f\"{key}: {value}\")"
      ]
    },
    {
      "cell_type": "markdown",
      "id": "182c831f",
      "metadata": {
        "id": "182c831f"
      },
      "source": [
        "## Part 3: Building the Budget Tracker\n",
        "\n",
        "Use AI to help you write a program that:\n",
        "- Allows users to input their monthly income\n",
        "- Allows users to input up to 3 expenses  \n",
        "- Calculates remaining budget\n",
        "- Shows a warning if budget is negative\n",
        "\n",
        "### 💡 Pro Tip: Be specific about requirements!"
      ]
    },
    {
      "cell_type": "code",
      "execution_count": null,
      "id": "74e672e3",
      "metadata": {
        "id": "74e672e3",
        "colab": {
          "base_uri": "https://localhost:8080/",
          "height": 53
        },
        "outputId": "8bf8871e-1b9f-4fb5-e824-a7bb9359b821"
      },
      "outputs": [
        {
          "output_type": "execute_result",
          "data": {
            "text/plain": [
              "\"\\nMy Budget Tracker Prompt:\\n[I need to create a program where allow users to input their monthly income Allow users to input up to 3 expenses like travel, food, bills also need to calculate remaining budget and it shouldn't be in negative figur]\\n\""
            ],
            "application/vnd.google.colaboratory.intrinsic+json": {
              "type": "string"
            }
          },
          "metadata": {},
          "execution_count": 18
        }
      ],
      "source": [
        "# TASK: Write your detailed prompt for the budget tracker\n",
        "\"\"\"\n",
        "My Budget Tracker Prompt:\n",
        "[I need to create a program where allow users to input their monthly income Allow users to input up to 3 expenses like travel, food, bills also need to calculate remaining budget and it shouldn't be in negative figur]\n",
        "\"\"\""
      ]
    },
    {
      "cell_type": "markdown",
      "id": "4bcfacf4",
      "metadata": {
        "id": "4bcfacf4"
      },
      "source": [
        "### Paste and Test Your AI-Generated Budget Tracker"
      ]
    },
    {
      "cell_type": "code",
      "execution_count": 15,
      "id": "2501e778",
      "metadata": {
        "id": "2501e778",
        "colab": {
          "base_uri": "https://localhost:8080/"
        },
        "outputId": "66a078c4-2460-4ddb-cc70-82503181b36a"
      },
      "outputs": [
        {
          "output_type": "stream",
          "name": "stdout",
          "text": [
            "\n",
            "--- SUMMARY ---\n",
            "Income: {Monthly income:,.$2k}\n",
            "- {Travel}: {Travel:,.$0.4k}\n",
            "- {Food}: {Food:,.$0.5k}\n",
            "- {Bill}: {Bill:,.$0.2k\n",
            "Total expenses: {total_expenses:,.$1.1k}\n",
            "Remaining budget: {remaining:,.$0.9k}\n"
          ]
        }
      ],
      "source": [
        "# AI-GENERATED BUDGET TRACKER CODE\n",
        "\n",
        "print(\"\\n--- SUMMARY ---\")\n",
        "print(\"Income: {Monthly income:,.$2k}\")\n",
        "print(\"- {Travel}: {Travel:,.$0.4k}\")\n",
        "print(\"- {Food}: {Food:,.$0.5k}\")\n",
        "print(\"- {Bill}: {Bill:,.$0.2k\")\n",
        "print(\"Total expenses: {total_expenses:,.$1.1k}\")\n",
        "print(\"Remaining budget: {remaining:,.$0.9k}\")"
      ]
    },
    {
      "cell_type": "markdown",
      "id": "f541d525",
      "metadata": {
        "id": "f541d525"
      },
      "source": [
        "### 🐛 Debugging and Refinement"
      ]
    },
    {
      "cell_type": "code",
      "execution_count": 11,
      "id": "3f624a27",
      "metadata": {
        "id": "3f624a27",
        "colab": {
          "base_uri": "https://localhost:8080/"
        },
        "outputId": "63be2070-8c33-49e9-955e-117c526e27d0"
      },
      "outputs": [
        {
          "output_type": "stream",
          "name": "stdout",
          "text": [
            "🔧 DEBUGGING NOTES:\n",
            "- Issue 1: [before print it shows spaces first]\n",
            "- Fix 1: [remove the spaces]\n"
          ]
        }
      ],
      "source": [
        "# Document any issues and fixes\n",
        "issues_found = [\n",
        "    \"Issue 1: [before print it shows spaces first]\",\n",
        "    \"Fix 1: [remove the spaces]\",\n",
        "    # Add more as needed\n",
        "]\n",
        "\n",
        "print(\"🔧 DEBUGGING NOTES:\")\n",
        "for item in issues_found:\n",
        "    print(f\"- {item}\")"
      ]
    },
    {
      "cell_type": "code",
      "execution_count": null,
      "id": "0772261d",
      "metadata": {
        "id": "0772261d"
      },
      "outputs": [],
      "source": [
        "# REFINED VERSION - Your Working Budget Tracker\n",
        "# [Paste your corrected/improved code here]"
      ]
    },
    {
      "cell_type": "markdown",
      "id": "ca842a66",
      "metadata": {
        "id": "ca842a66"
      },
      "source": [
        "## Part 4: Enhancement Challenge\n",
        "\n",
        "Choose ONE feature to add using AI assistance:\n",
        "- 🏷️ Expense categories (food, transport, entertainment)\n",
        "- 📊 Show percentage of income spent\n",
        "- ✅ Input validation (no negative numbers)\n",
        "- 📝 Detailed budget summary with advice"
      ]
    },
    {
      "cell_type": "code",
      "execution_count": 14,
      "id": "fbd649d2",
      "metadata": {
        "id": "fbd649d2",
        "colab": {
          "base_uri": "https://localhost:8080/"
        },
        "outputId": "0597eb7a-d8e4-417a-ca95-21ee7fcf71d3"
      },
      "outputs": [
        {
          "output_type": "stream",
          "name": "stdout",
          "text": [
            "🚀 ENHANCEMENT: I chose to add: [percentage of income spent]\n"
          ]
        }
      ],
      "source": [
        "# Document your enhancement\n",
        "enhancement_choice = \"I chose to add: [percentage of income spent]\"\n",
        "enhancement_prompt = \"\"\"\n",
        "[in the existing program i want to show the percentage of income spent, make a enhanced code for me now]\n",
        "\"\"\"\n",
        "\n",
        "print(f\"🚀 ENHANCEMENT: {enhancement_choice}\")"
      ]
    },
    {
      "cell_type": "code",
      "execution_count": 22,
      "id": "b12879f3",
      "metadata": {
        "id": "b12879f3",
        "colab": {
          "base_uri": "https://localhost:8080/"
        },
        "outputId": "371d9d63-16c4-4694-da56-807ea024193c"
      },
      "outputs": [
        {
          "output_type": "stream",
          "name": "stdout",
          "text": [
            "Monthly Income: {income:,.$2k}\n",
            "- {Travel}: {Travel:,.$0.4k}\n",
            "- {Food}: {Food:,.$0.5k}\n",
            "- {Bill}: {Bill:,.$0.2k}\n",
            "Total expenses: {total_expenses:,.Travel+Food+Bill:}\n",
            "Income spent: {percent_spent:.55%}\n",
            "Remaining budget: {remaining:,.$0.9k}\n"
          ]
        }
      ],
      "source": [
        "# ENHANCED BUDGET TRACKER\n",
        "print(\"Monthly Income: {income:,.$2k}\")\n",
        "print(\"- {Travel}: {Travel:,.$0.4k}\")\n",
        "print(\"- {Food}: {Food:,.$0.5k}\")\n",
        "print(\"- {Bill}: {Bill:,.$0.2k}\")\n",
        "print(\"Total expenses: {total_expenses:,.Travel+Food+Bill:}\")\n",
        "print(\"Income spent: {percent_spent:.55%}\")\n",
        "print(\"Remaining budget: {remaining:,.$0.9k}\")"
      ]
    },
    {
      "cell_type": "markdown",
      "id": "cfa2845b",
      "metadata": {
        "id": "cfa2845b"
      },
      "source": [
        "## Part 5: Reflection and Lab Exit Ticket Preparation"
      ]
    },
    {
      "cell_type": "code",
      "execution_count": 41,
      "id": "220ff6b4",
      "metadata": {
        "id": "220ff6b4",
        "colab": {
          "base_uri": "https://localhost:8080/"
        },
        "outputId": "56e82548-a5e7-48d5-8c62-71adcb692e39"
      },
      "outputs": [
        {
          "output_type": "stream",
          "name": "stdout",
          "text": [
            "📋 EVIDENCE PACKAGE #2 (Final)\n",
            "timestamp: 2025-08-19 03:00:05\n",
            "context: Creating the full budget tracker with enhancements\n",
            "ai_tool_used: [ChatGPT<Gemini]\n",
            "prompts_used: 6\n",
            "iterations_needed: 3\n",
            "final_reflection: [zero spaces, coma]\n"
          ]
        }
      ],
      "source": [
        "# Final Evidence Package Summary\n",
        "evidence_2 = {\n",
        "    \"timestamp\":'2025-08-19 03:00:05',\n",
        "\"context\":\"Creating the full budget tracker with enhancements\",\n",
        "\"ai_tool_used\":\"[ChatGPT<Gemini]\",\n",
        "\"prompts_used\":6,\n",
        "\"iterations_needed\":3,\n",
        "\"final_reflection\":\"[zero spaces, coma]\"\n",
        "}\n",
        "\n",
        "print(\"📋 EVIDENCE PACKAGE #2 (Final)\")\n",
        "for key, value in evidence_2.items():\n",
        " print(f\"{key}: {value}\")"
      ]
    },
    {
      "cell_type": "markdown",
      "id": "69d17be0",
      "metadata": {
        "id": "69d17be0"
      },
      "source": [
        "## 🎯 Submission Checklist\n",
        "\n",
        "Before submitting:\n",
        "- ✅ All code cells run without errors\n",
        "- ✅ You've documented at least 2 AI interactions  \n",
        "- ✅ Budget tracker accepts income and 3+ expenses\n",
        "- ✅ Completed both Evidence Packages\n",
        "- ✅ Attempted the enhancement challenge\n",
        "- ✅ Reflected on your AI collaboration experience"
      ]
    },
    {
      "cell_type": "code",
      "execution_count": 45,
      "id": "0d85c2f1",
      "metadata": {
        "id": "0d85c2f1",
        "colab": {
          "base_uri": "https://localhost:8080/"
        },
        "outputId": "de5eb3af-65dc-4126-cd79-c846d1fcbeae"
      },
      "outputs": [
        {
          "output_type": "stream",
          "name": "stdout",
          "text": [
            "==================================================\n",
            "WEEK 1 WORKSHEET COMPLETION SUMMARY\n",
            "==================================================\n",
            "Student Name: [Rubaiet A Zannat]\n",
            "Completion Time: '2025-08-19 03:15:00'\n",
            "\n",
            "Core Features Implemented:\n",
            "✅ Basic income/expense input\n",
            "✅ Budget calculation\n",
            "✅ Warning for negative budget\n",
            "✅ Enhancement: [Your enhancement]\n",
            "\n",
            "AI Collaboration Stats:\n",
            "- AI tools used: [ChatGPT<Gemini]\n",
            "- Number of prompts: [9]\n",
            "- Success rate: [60]%\n",
            "\n",
            "🎉 Ready for Lab Exit Ticket submission!\n"
          ]
        }
      ],
      "source": [
        "# Generate submission summary\n",
        "print(\"=\"*50)\n",
        "print(\"WEEK 1 WORKSHEET COMPLETION SUMMARY\")\n",
        "print(\"=\"*50)\n",
        "print(\"Student Name: [Rubaiet A Zannat]\")\n",
        "print(f\"Completion Time: '2025-08-19 03:15:00'\")\n",
        "print(\"\\nCore Features Implemented:\")\n",
        "print(\"✅ Basic income/expense input\")\n",
        "print(\"✅ Budget calculation\")\n",
        "print(\"✅ Warning for negative budget\")\n",
        "print(\"✅ Enhancement: [Your enhancement]\")\n",
        "print(\"\\nAI Collaboration Stats:\")\n",
        "print(f\"- AI tools used: [ChatGPT<Gemini]\")\n",
        "print(f\"- Number of prompts: [9]\")\n",
        "print(f\"- Success rate: [60]%\")\n",
        "print(\"\\n🎉 Ready for Lab Exit Ticket submission!\")"
      ]
    },
    {
      "cell_type": "markdown",
      "id": "63b51742",
      "metadata": {
        "id": "63b51742"
      },
      "source": [
        "## 💭 Final Reflection Questions\n",
        "\n",
        "**1. What surprised you most about working with AI to generate code?**  \n",
        "[Your answer here]\n",
        "\n",
        "**2. What makes a good prompt vs. a poor prompt?**  \n",
        "[Your answer here]\n",
        "\n",
        "**3. How do you see AI tools fitting into your future programming workflow?**  \n",
        "[Your answer here]\n",
        "\n",
        "---\n",
        "\n",
        "### 📁 Save and Next Steps:\n",
        "1. File > Save a copy in GitHub (if you haven't already)    \n",
        "2. Prepare evidence for next lab session for the Exit Ticket  \n",
        "3. Start thinking about Week 2: Variables & Data Types!\n"
      ]
    },
    {
      "cell_type": "code",
      "source": [],
      "metadata": {
        "id": "rdAf6Gc517wB"
      },
      "id": "rdAf6Gc517wB",
      "execution_count": null,
      "outputs": []
    }
  ],
  "metadata": {
    "colab": {
      "provenance": [],
      "include_colab_link": true
    },
    "language_info": {
      "name": "python"
    },
    "kernelspec": {
      "name": "python3",
      "display_name": "Python 3"
    }
  },
  "nbformat": 4,
  "nbformat_minor": 5
}